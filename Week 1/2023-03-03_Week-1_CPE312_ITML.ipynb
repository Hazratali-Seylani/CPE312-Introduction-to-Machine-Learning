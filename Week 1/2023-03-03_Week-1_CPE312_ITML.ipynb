{
 "cells": [
  {
   "cell_type": "markdown",
   "id": "cc33837c",
   "metadata": {},
   "source": [
    "# 03/03/2023 Week 1 "
   ]
  },
  {
   "cell_type": "code",
   "execution_count": null,
   "id": "c3651cf5",
   "metadata": {},
   "outputs": [],
   "source": [
    "import numpy\n",
    "import matplotlib\n",
    "import sklearn\n",
    "import random\n",
    "import math"
   ]
  },
  {
   "cell_type": "code",
   "execution_count": null,
   "id": "d3e5362a",
   "metadata": {},
   "outputs": [],
   "source": [
    "welcome = \"Hello world!\""
   ]
  },
  {
   "cell_type": "code",
   "execution_count": null,
   "id": "47ecbb45",
   "metadata": {},
   "outputs": [],
   "source": [
    "print(welcome)"
   ]
  },
  {
   "cell_type": "code",
   "execution_count": null,
   "id": "64c9b53d",
   "metadata": {},
   "outputs": [],
   "source": [
    "name = input(\"\")"
   ]
  },
  {
   "cell_type": "code",
   "execution_count": null,
   "id": "4d07ad9c",
   "metadata": {},
   "outputs": [],
   "source": [
    "print(\"Hello\", name, \"\\b, Welcome!\")"
   ]
  },
  {
   "cell_type": "code",
   "execution_count": null,
   "id": "5d423c94",
   "metadata": {},
   "outputs": [],
   "source": [
    "list = []\n",
    "for i in range(10):\n",
    "    list.append(random.randint(0, 1))"
   ]
  },
  {
   "cell_type": "code",
   "execution_count": null,
   "id": "99c221a2",
   "metadata": {},
   "outputs": [],
   "source": [
    "print(list)"
   ]
  },
  {
   "cell_type": "code",
   "execution_count": null,
   "id": "37b1f7d8",
   "metadata": {},
   "outputs": [],
   "source": [
    "matrix = numpy.matrix(list)  \n",
    "print(matrix)"
   ]
  }
 ],
 "metadata": {
  "kernelspec": {
   "display_name": "Python 3 (ipykernel)",
   "language": "python",
   "name": "python3"
  },
  "language_info": {
   "codemirror_mode": {
    "name": "ipython",
    "version": 3
   },
   "file_extension": ".py",
   "mimetype": "text/x-python",
   "name": "python",
   "nbconvert_exporter": "python",
   "pygments_lexer": "ipython3",
   "version": "3.9.13"
  }
 },
 "nbformat": 4,
 "nbformat_minor": 5
}
